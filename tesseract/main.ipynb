{
 "cells": [
  {
   "cell_type": "code",
   "execution_count": 1,
   "metadata": {},
   "outputs": [],
   "source": [
    "import pytesseract\n",
    "import numpy as np\n",
    "import cv2\n",
    "import os\n",
    "\n",
    "from pprint import pprint\n",
    "from pytesseract import Output\n",
    "\n",
    "pytesseract.pytesseract.tesseract_cmd = r'/usr/local/bin/tesseract'"
   ]
  },
  {
   "cell_type": "code",
   "execution_count": 2,
   "metadata": {},
   "outputs": [],
   "source": [
    "img = cv2.imread('../images/1c5e5931-8337-40bb-9ff6-3718b941c902.JPG')"
   ]
  },
  {
   "cell_type": "code",
   "execution_count": 3,
   "metadata": {},
   "outputs": [],
   "source": [
    "# Convert the BGR image to RGB format\n",
    "rgb = cv2.cvtColor(img, cv2.COLOR_BGR2RGB)"
   ]
  },
  {
   "cell_type": "code",
   "execution_count": 7,
   "metadata": {},
   "outputs": [
    {
     "name": "stdout",
     "output_type": "stream",
     "text": [
      "{'text': 'BER F\\n'\n",
      "         'NUMERO bp rae Ss\\n'\n",
      "         'RUT 8120109,\\n'\n",
      "         'BOLETA ELECTRONICA NS Saettias\\n'\n",
      "         'SIT SANTIAGO ORE NO2o/4251\\n'\n",
      "         '\\n'\n",
      "         'CENCOSUD RETAIL S.A\\n'\n",
      "         '\\n'\n",
      "         'AV. KENNEDY 9001, LAS CONDES-saNtiaco\\n'\n",
      "         '\\n'\n",
      "         'AV. VITACURA 6258.5\\n'\n",
      "         '\\n'\n",
      "         'VITACURA ~ sANTIAG\\n'\n",
      "         '\\n'\n",
      "         '7441008154617 Hallet ss See cae)\\n'\n",
      "         '4 ETA COSTA DONU 1.165\\n'\n",
      "         '\\n'\n",
      "         '7a02219908020,s18S Grenins At\\n'\n",
      "         'ei 262 Gi AREG COSTA 629\\n'\n",
      "         '\\n'\n",
      "         '7802215502262 “cin tore rg 4.977\\n'\n",
      "         '\\n'\n",
      "         'NETO $ 3.922\\n'\n",
      "         '\\n'\n",
      "         'TOTAL IVA 19,00% ¢ 745\\n'\n",
      "         'Beer as $ 310\\n'\n",
      "         '\\n'\n",
      "         'i AL $ 4.667\\n'\n",
      "         '\\n'\n",
      "         'UBER EATS ¢ 4 ees\\n'\n",
      "         'VUELTO $ 0\\n'\n",
      "         '\\n'\n",
      "         'Timbre Electronico SII Res. 124 de 2009\\n'\n",
      "         'REIMPRESIONES EN www.santaisabel.cl\\n'\n",
      "         '\\n'\n",
      "         'Si\\n'\n",
      "         '\\n'\n",
      "         '01002700424635742311\\n'\n",
      "         'FECHA HORA LOCAL CA TRX ID\\n'\n",
      "         '21/05/23 16:46 0701 02 7004 3\\n'\n",
      "         'ATENDIDO POR : YERUXA VALDIVIA\\n'\n",
      "         '4.1.789 [2029] CS-CL 1362-9.2.0\\n'}\n"
     ]
    }
   ],
   "source": [
    "text = pytesseract.image_to_string(rgb, output_type=Output.DICT)\n",
    "pprint(text)"
   ]
  },
  {
   "cell_type": "code",
   "execution_count": 26,
   "metadata": {},
   "outputs": [
    {
     "name": "stdout",
     "output_type": "stream",
     "text": [
      "  % Total    % Received % Xferd  Average Speed   Time    Time     Time  Current\n",
      "                                 Dload  Upload   Total   Spent    Left  Speed\n",
      "100 13887  100 13887    0     0  26212      0 --:--:-- --:--:-- --:--:-- 26912\n"
     ]
    }
   ],
   "source": [
    "!curl -o /usr/local/Cellar/tesseract/5.3.2/share/tessdata/spa.traineddata https://github.com/tesseract-ocr/tessdata/blob/main/spa.traineddata"
   ]
  },
  {
   "cell_type": "code",
   "execution_count": 45,
   "metadata": {},
   "outputs": [
    {
     "name": "stdout",
     "output_type": "stream",
     "text": [
      "{'text': 'BER F\\n'\n",
      "         'NUMERO\" de Y s\\n'\n",
      "         'RUT 8120100,\\n'\n",
      "         'BOLETA ELECTRONICA NS 24 387ds\\n'\n",
      "         'SII SANTIAGO ORIENo¿9 1251\\n'\n",
      "         '\\n'\n",
      "         'CENCOSUD RETAIL S-A\\n'\n",
      "         '\\n'\n",
      "         'AV. KENNEDY 9001. LAS CONDES-SANTIAGO\\n'\n",
      "         '\\n'\n",
      "         'AY, VITACURA 6255.\\n'\n",
      "         '\\n'\n",
      "         'VITACURA - SANTIAS\\n'\n",
      "         '\\n'\n",
      "         '1441008154617 dallerO Tes STE\\n'\n",
      "         'A ETA COSTA DONU 1.163\\n'\n",
      "         '\\n'\n",
      "         'cen AS OEA 370\\n'\n",
      "         'ds 262 Gl AREG COSTA 629\\n'\n",
      "         '\\n'\n",
      "         '1802215502262 PUB TorAros 4.977\\n'\n",
      "         '\\n'\n",
      "         'NETO $ 3.922\\n'\n",
      "         '\\n'\n",
      "         'TOTAL IVA 19,00% $ 745\\n'\n",
      "         'eras $ 310\\n'\n",
      "         '\\n'\n",
      "         '4 AL $ 4.667\\n'\n",
      "         '\\n'\n",
      "         'UBER EATS $ Pla\\n'\n",
      "         'VUELTO $ 0\\n'\n",
      "         '\\n'\n",
      "         'Timbre Electronico SII Res, 124 de 2009\\n'\n",
      "         'REIMPRESIONES EN yww.santaisabel cl\\n'\n",
      "         '\\n'\n",
      "         'A O A\\n'\n",
      "         '\\n'\n",
      "         '01002700424635742311\\n'\n",
      "         'FECHA HORA LOCAL CA TRX 1D\\n'\n",
      "         '21/05/23 16:46 0701 02 7004 3\\n'\n",
      "         'ATENDIDO POR : YERUXA VALDIVIA\\n'\n",
      "         '4.1.789 [2029] CS-CL 1362-9.2.0\\n'}\n"
     ]
    }
   ],
   "source": [
    "os.environ['TESSDATA_PREFIX'] = '/usr/local/Cellar/tesseract-lang/4.1.0/share/tessdata'\n",
    "custom_config = r'--tessdata-dir \"/usr/local/Cellar/tesseract-lang/4.1.0/share/tessdata\" -l spa --psm 6'\n",
    "text = pytesseract.image_to_string(img, lang='spa', output_type=Output.DICT)\n",
    "pprint(text)"
   ]
  }
 ],
 "metadata": {
  "kernelspec": {
   "display_name": "venv-ocr",
   "language": "python",
   "name": "python3"
  },
  "language_info": {
   "codemirror_mode": {
    "name": "ipython",
    "version": 3
   },
   "file_extension": ".py",
   "mimetype": "text/x-python",
   "name": "python",
   "nbconvert_exporter": "python",
   "pygments_lexer": "ipython3",
   "version": "3.9.0"
  },
  "orig_nbformat": 4
 },
 "nbformat": 4,
 "nbformat_minor": 2
}
