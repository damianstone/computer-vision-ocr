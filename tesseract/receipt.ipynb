{
 "cells": [
  {
   "cell_type": "code",
   "execution_count": 2,
   "metadata": {},
   "outputs": [
    {
     "name": "stdout",
     "output_type": "stream",
     "text": [
      "{'RUT': None, 'Nombre o Razón Social': None}\n"
     ]
    }
   ],
   "source": [
    "import cv2\n",
    "import pytesseract\n",
    "import re\n",
    "\n",
    "def preprocess_image(image_path):\n",
    "    img = cv2.imread(image_path)\n",
    "    gray_img = cv2.cvtColor(img, cv2.COLOR_BGR2GRAY)\n",
    "    blurred_img = cv2.GaussianBlur(gray_img, (5, 5), 0)\n",
    "    threshold_img = cv2.threshold(blurred_img, 0, 255, cv2.THRESH_BINARY + cv2.THRESH_OTSU)[1]\n",
    "    return threshold_img\n",
    "\n",
    "def extract_text_from_image(image_path):\n",
    "    preprocessed_img = preprocess_image(image_path)\n",
    "    extracted_text = pytesseract.image_to_string(preprocessed_img, lang='spa')\n",
    "    return extracted_text\n",
    "\n",
    "def find_boleta_information(text):\n",
    "    # Use regular expressions to find necessary information\n",
    "    pattern_rut = r\"\\bRUT\\b\\s*([0-9.-]+)\"\n",
    "    pattern_razon_social = r\"\\bNombre o Razón Social\\b\\s*(.+)\"\n",
    "    # Add more patterns as per the required information\n",
    "\n",
    "    # Search for patterns in the extracted text\n",
    "    rut_matches = re.findall(pattern_rut, text, re.IGNORECASE)\n",
    "    razon_social_matches = re.findall(pattern_razon_social, text, re.IGNORECASE)\n",
    "    # Add more search results as per the required information\n",
    "\n",
    "    # Return the extracted information\n",
    "    extracted_info = {\n",
    "        \"RUT\": rut_matches[0] if rut_matches else None,\n",
    "        \"Nombre o Razón Social\": razon_social_matches[0] if razon_social_matches else None,\n",
    "        # Add more information fields here\n",
    "    }\n",
    "    return extracted_info\n",
    "\n",
    "def process_boleta(image_path):\n",
    "    extracted_text = extract_text_from_image(image_path)\n",
    "    boleta_info = find_boleta_information(extracted_text)\n",
    "    return boleta_info\n",
    "\n",
    "# Example usage:\n",
    "image_path = \"../images/1c5e5931-8337-40bb-9ff6-3718b941c902.JPG\"\n",
    "result = process_boleta(image_path)\n",
    "print(result)"
   ]
  },
  {
   "cell_type": "code",
   "execution_count": 4,
   "metadata": {},
   "outputs": [
    {
     "name": "stdout",
     "output_type": "stream",
     "text": [
      "{'Rut / nombre proovedor': None, 'Numero de la boleta': None, 'Items con sus montos': None, 'Total del gasto monto': None, 'Metodo de pago': None, 'IVA (calculo interno)': None}\n"
     ]
    }
   ],
   "source": [
    "import cv2\n",
    "import pytesseract\n",
    "import re\n",
    "\n",
    "def preprocess_image(image_path):\n",
    "    img = cv2.imread(image_path)\n",
    "    gray_img = cv2.cvtColor(img, cv2.COLOR_BGR2GRAY)\n",
    "    blurred_img = cv2.GaussianBlur(gray_img, (5, 5), 0)\n",
    "    threshold_img = cv2.threshold(blurred_img, 0, 255, cv2.THRESH_BINARY + cv2.THRESH_OTSU)[1]\n",
    "    return threshold_img\n",
    "\n",
    "def extract_text_from_image(image_path):\n",
    "    preprocessed_img = preprocess_image(image_path)\n",
    "    extracted_text = pytesseract.image_to_string(preprocessed_img, lang='spa')\n",
    "    return extracted_text\n",
    "\n",
    "def find_boleta_information(text):\n",
    "    # Use regular expressions to find necessary information\n",
    "    pattern_rut_proveedor = r\"\\bRUT\\b\\s*([0-9.-]+|.+)\"\n",
    "    pattern_numero_boleta = r\"\\bNumero de la boleta\\b\\s*(\\d+)\"\n",
    "    pattern_items = r\"([A-Za-z0-9\\s]+)\\s*(\\$\\s*\\d+)\"\n",
    "    pattern_total_gasto_monto = r\"\\bTotal del gasto monto\\b\\s*(\\$\\s*\\d+)\"\n",
    "    pattern_metodo_pago = r\"\\bMetodo de pago\\b\\s*(\\w+)\"\n",
    "    pattern_iva = r\"\\bIVA \\(calculo interno\\)\\b\\s*(\\$\\s*\\d+)\"\n",
    "\n",
    "    # Search for patterns in the extracted text\n",
    "    rut_proveedor_matches = re.findall(pattern_rut_proveedor, text, re.IGNORECASE)\n",
    "    numero_boleta_matches = re.findall(pattern_numero_boleta, text, re.IGNORECASE)\n",
    "    items_matches = re.findall(pattern_items, text, re.IGNORECASE)\n",
    "    total_gasto_monto_matches = re.findall(pattern_total_gasto_monto, text, re.IGNORECASE)\n",
    "    metodo_pago_matches = re.findall(pattern_metodo_pago, text, re.IGNORECASE)\n",
    "    iva_matches = re.findall(pattern_iva, text, re.IGNORECASE)\n",
    "\n",
    "    # Return the extracted information\n",
    "    extracted_info = {\n",
    "        \"Rut / nombre proovedor\": rut_proveedor_matches[0] if rut_proveedor_matches else None,\n",
    "        \"Numero de la boleta\": numero_boleta_matches[0] if numero_boleta_matches else None,\n",
    "        \"Items con sus montos\": dict(items_matches) if items_matches else None,\n",
    "        \"Total del gasto monto\": total_gasto_monto_matches[0] if total_gasto_monto_matches else None,\n",
    "        \"Metodo de pago\": metodo_pago_matches[0] if metodo_pago_matches else None,\n",
    "        \"IVA (calculo interno)\": iva_matches[0] if iva_matches else None,\n",
    "    }\n",
    "    return extracted_info\n",
    "\n",
    "def process_boleta(image_path):\n",
    "    extracted_text = extract_text_from_image(image_path)\n",
    "    boleta_info = find_boleta_information(extracted_text)\n",
    "    return boleta_info\n",
    "\n",
    "# Example usage:\n",
    "image_path = \"../images/1c5e5931-8337-40bb-9ff6-3718b941c902.JPG\"\n",
    "result = process_boleta(image_path)\n",
    "print(result)"
   ]
  }
 ],
 "metadata": {
  "kernelspec": {
   "display_name": "venv-ocr",
   "language": "python",
   "name": "python3"
  },
  "language_info": {
   "codemirror_mode": {
    "name": "ipython",
    "version": 3
   },
   "file_extension": ".py",
   "mimetype": "text/x-python",
   "name": "python",
   "nbconvert_exporter": "python",
   "pygments_lexer": "ipython3",
   "version": "3.9.0"
  },
  "orig_nbformat": 4
 },
 "nbformat": 4,
 "nbformat_minor": 2
}
